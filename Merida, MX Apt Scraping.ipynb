{
 "cells": [
  {
   "cell_type": "code",
   "execution_count": 66,
   "id": "cad2732c",
   "metadata": {},
   "outputs": [],
   "source": [
    "from bs4 import BeautifulSoup\n",
    "import requests\n",
    "from csv import writer"
   ]
  },
  {
   "cell_type": "code",
   "execution_count": 67,
   "id": "992b28a2",
   "metadata": {},
   "outputs": [],
   "source": [
    "url = 'https://www.point2homes.com/MX/Houses-For-Rent/Yucatan/Merida.html'\n",
    "page = requests.get(url)\n",
    "\n",
    "soup = BeautifulSoup(page.content, 'html.parser')\n",
    "lists = soup.find_all('div', class_= \"item-right-cnt\")\n"
   ]
  },
  {
   "cell_type": "code",
   "execution_count": 84,
   "metadata": {},
   "outputs": [
    {
     "name": "stdout",
     "output_type": "stream",
     "text": [
      "None\n",
      "None\n",
      "<li class=\"ic-sqft\" data-label=\"Sqft\">\n",
      "<strong>193.75</strong> <span class=\"gray normal-lbl\">Sqft</span><span class=\"gray short-lbl\">Sqft</span>\n",
      "</li>\n",
      "<li class=\"ic-sqft\" data-label=\"Sqft\">\n",
      "<strong>516.67</strong> <span class=\"gray normal-lbl\">Sqft</span><span class=\"gray short-lbl\">Sqft</span>\n",
      "</li>\n",
      "<li class=\"ic-sqft\" data-label=\"Sqft\">\n",
      "<strong>3,530.56</strong> <span class=\"gray normal-lbl\">Sqft</span><span class=\"gray short-lbl\">Sqft</span>\n",
      "</li>\n",
      "<li class=\"ic-sqft\" data-label=\"Sqft\">\n",
      "<strong>1,538.68</strong> <span class=\"gray normal-lbl\">Sqft</span><span class=\"gray short-lbl\">Sqft</span>\n",
      "</li>\n",
      "<li class=\"ic-sqft\" data-label=\"Sqft\">\n",
      "<strong>2,023.62</strong> <span class=\"gray normal-lbl\">Sqft</span><span class=\"gray short-lbl\">Sqft</span>\n",
      "</li>\n",
      "<li class=\"ic-sqft\" data-label=\"Sqft\">\n",
      "<strong>2,077.43</strong> <span class=\"gray normal-lbl\">Sqft</span><span class=\"gray short-lbl\">Sqft</span>\n",
      "</li>\n",
      "<li class=\"ic-sqft\" data-label=\"Sqft\">\n",
      "<strong>3,864.24</strong> <span class=\"gray normal-lbl\">Sqft</span><span class=\"gray short-lbl\">Sqft</span>\n",
      "</li>\n",
      "<li class=\"ic-sqft\" data-label=\"Sqft\">\n",
      "<strong>2,690</strong> <span class=\"gray normal-lbl\">Sqft</span><span class=\"gray short-lbl\">Sqft</span>\n",
      "</li>\n",
      "<li class=\"ic-sqft\" data-label=\"Sqft\">\n",
      "<strong>1,388.54</strong> <span class=\"gray normal-lbl\">Sqft</span><span class=\"gray short-lbl\">Sqft</span>\n",
      "</li>\n",
      "None\n",
      "<li class=\"ic-sqft\" data-label=\"Sqft\">\n",
      "<strong>3,334.98</strong> <span class=\"gray normal-lbl\">Sqft</span><span class=\"gray short-lbl\">Sqft</span>\n",
      "</li>\n",
      "<li class=\"ic-sqft\" data-label=\"Sqft\">\n",
      "<strong>2,873.96</strong> <span class=\"gray normal-lbl\">Sqft</span><span class=\"gray short-lbl\">Sqft</span>\n",
      "</li>\n",
      "<li class=\"ic-sqft\" data-label=\"Sqft\">\n",
      "<strong>9,560.72</strong> <span class=\"gray normal-lbl\">Sqft</span><span class=\"gray short-lbl\">Sqft</span>\n",
      "</li>\n",
      "<li class=\"ic-sqft\" data-label=\"Sqft\">\n",
      "<strong>590</strong> <span class=\"gray normal-lbl\">Sqft</span><span class=\"gray short-lbl\">Sqft</span>\n",
      "</li>\n",
      "None\n",
      "None\n",
      "None\n",
      "<li class=\"ic-sqft\" data-label=\"Sqft\">\n",
      "<strong>215.28</strong> <span class=\"gray normal-lbl\">Sqft</span><span class=\"gray short-lbl\">Sqft</span>\n",
      "</li>\n",
      "None\n",
      "<li class=\"ic-sqft\" data-label=\"Sqft\">\n",
      "<strong>2,066.67</strong> <span class=\"gray normal-lbl\">Sqft</span><span class=\"gray short-lbl\">Sqft</span>\n",
      "</li>\n",
      "<li class=\"ic-sqft\" data-label=\"Sqft\">\n",
      "<strong>11,581.97</strong> <span class=\"gray normal-lbl\">Sqft</span><span class=\"gray short-lbl\">Sqft</span>\n",
      "</li>\n",
      "None\n"
     ]
    }
   ],
   "source": [
    "#with open('merhousing.csv', 'w', encoding = 'utf-8', newline='') as f:\n",
    "    #thewriter = writer(f)\n",
    "    #header = ['Title', 'Price', 'Area', 'Beds', 'Baths']\n",
    "    #thewriter.writerow(header)\n",
    "\n",
    "for list in lists:\n",
    "    title = list.find('div', class_='address-container').text.replace('\\r\\n', '')\n",
    "    price = list.find('div', class_='price').text.replace('\\n\\n\\r\\n', '')\n",
    "    area = list.find('li', class_='ic-sqft')\n",
    "    beds = list.find('li', class_='ic-beds')\n",
    "    baths = list.find('li', class_='ic-baths')\n",
    "\n",
    "    info= [title,price, area, beds, baths]\n",
    "    print(info)\n",
    "        #thewriter.writerow(info)\n"
   ]
  },
  {
   "cell_type": "code",
   "execution_count": null,
   "id": "c15c7346",
   "metadata": {},
   "outputs": [],
   "source": [
    "\n"
   ]
  }
 ],
 "metadata": {
  "kernelspec": {
   "display_name": "Python 3 (ipykernel)",
   "language": "python",
   "name": "python3"
  },
  "language_info": {
   "codemirror_mode": {
    "name": "ipython",
    "version": 3
   },
   "file_extension": ".py",
   "mimetype": "text/x-python",
   "name": "python",
   "nbconvert_exporter": "python",
   "pygments_lexer": "ipython3",
   "version": "3.9.7"
  }
 },
 "nbformat": 4,
 "nbformat_minor": 5
}
